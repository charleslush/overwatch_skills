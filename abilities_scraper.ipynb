{
 "cells": [
  {
   "cell_type": "code",
   "execution_count": 2,
   "id": "f11a3064-f895-4e25-a15b-2c78e618c5dd",
   "metadata": {},
   "outputs": [],
   "source": [
    "base_wiki_url = \"https://overwatch.fandom.com/wiki/\"\n",
    "\n",
    "# Too lazy to scrap the page, just copy-pasted the hero names from here:\n",
    "active_hero_list = [\n",
    "    \"Baptiste‎\",\n",
    "    \"Bastion‎\",\n",
    "    \"Brigitte‎\",\n",
    "    \"Cassidy‎\",\n",
    "    \"D.Va‎\",\n",
    "    \"Doomfist‎\",\n",
    "    \"Echo‎\",\n",
    "    \"Genji‎\",\n",
    "    \"Hanzo‎\",\n",
    "    \"Junkrat‎\",\n",
    "    \"Lifeweaver‎\",\n",
    "    \"Lúcio‎\",\n",
    "    \"Mei‎\",\n",
    "    \"Mercy‎\",\n",
    "    \"Moira‎\",\n",
    "    \"Orisa‎\",\n",
    "    \"Pharah‎\",\n",
    "    \"Ramattra‎\",\n",
    "    \"Reaper‎\",\n",
    "    \"Reinhardt‎\",\n",
    "    \"Roadhog‎\",\n",
    "    \"Sigma‎\",\n",
    "    \"Soldier: 76‎\",\n",
    "    \"Sombra‎\",\n",
    "    \"Symmetra‎\",\n",
    "    \"Torbjörn‎\",\n",
    "    \"Tracer‎\",\n",
    "    \"Widowmaker‎\",\n",
    "    \"Winston‎\",\n",
    "    \"Wrecking Ball‎\",\n",
    "    \"Zarya‎\",\n",
    "    \"Zenyatta‎\",\n",
    "]"
   ]
  },
  {
   "cell_type": "code",
   "execution_count": 17,
   "id": "bc49191b-cd96-44cc-8596-abac1ff82a5b",
   "metadata": {},
   "outputs": [
    {
     "name": "stdout",
     "output_type": "stream",
     "text": [
      "Loading URL: https://overwatch.fandom.com/wiki/Winston\n"
     ]
    },
    {
     "data": {
      "text/plain": [
       "{'Tesla Cannon': {'keybind': 'Key mouse 1'},\n",
       " 'Tesla Cannon Alt Fire': {'keybind': 'Key mouse 2'},\n",
       " 'Barrier ProjectorE': {'keybind': 'E'},\n",
       " 'Jump PackLSHIFT': {'keybind': 'LSHIFT'},\n",
       " 'Primal RageQ': {'keybind': 'Q'}}"
      ]
     },
     "execution_count": 17,
     "metadata": {},
     "output_type": "execute_result"
    }
   ],
   "source": [
    "import requests\n",
    "from  bs4 import BeautifulSoup\n",
    "\n",
    "def parse_ability_box(soup):\n",
    "    header = soup.find(\"div\", {\"class\": \"abilityHeader\"})\n",
    "    keybind = header.find(\"span\", {\"title\": \"Hotkey\"})\n",
    "    if keybind.text:\n",
    "        keybind = keybind.text\n",
    "    else:\n",
    "        keybind = keybind.find(\"img\")['alt']\n",
    "    ability_name = header.text.replace(keybind, \"\")\n",
    "    # TODO: Parse the rest of the ability_box\n",
    "    data = {header.text: {\"keybind\": keybind}}\n",
    "    return data\n",
    "\n",
    "def get_abilities(character: str):\n",
    "    url = base_wiki_url + character.replace(\" \", \"_\")\n",
    "    print(f\"Loading URL: {url}\")\n",
    "    r = requests.get(url)\n",
    "    soup = BeautifulSoup(r.text)\n",
    "    # content_soup = soup.find(\"div\", {\"class\": \"mw-parser-output\"})\n",
    "    ability_box_list = soup.find_all(\"div\", {\"class\": \"ability_box\"})\n",
    "    ability_data = {}\n",
    "    for ability_box in ability_box_list:\n",
    "        ability_data.update(parse_ability_box(ability_box))\n",
    "    return ability_data\n",
    "\n",
    "get_abilities(\"Winston\")"
   ]
  },
  {
   "cell_type": "code",
   "execution_count": null,
   "id": "776b20f1-4204-4e84-a2c8-c62942223f1c",
   "metadata": {},
   "outputs": [],
   "source": []
  }
 ],
 "metadata": {
  "kernelspec": {
   "display_name": "Python 3 (ipykernel)",
   "language": "python",
   "name": "python3"
  },
  "language_info": {
   "codemirror_mode": {
    "name": "ipython",
    "version": 3
   },
   "file_extension": ".py",
   "mimetype": "text/x-python",
   "name": "python",
   "nbconvert_exporter": "python",
   "pygments_lexer": "ipython3",
   "version": "3.11.7"
  }
 },
 "nbformat": 4,
 "nbformat_minor": 5
}
