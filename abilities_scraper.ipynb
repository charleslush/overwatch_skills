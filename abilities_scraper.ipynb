{
 "cells": [
  {
   "cell_type": "code",
   "execution_count": 1,
   "id": "f11a3064-f895-4e25-a15b-2c78e618c5dd",
   "metadata": {},
   "outputs": [],
   "source": [
    "base_wiki_url = \"https://overwatch.fandom.com/wiki/\"\n",
    "\n",
    "# Too lazy to scrap the page, just copy-pasted the hero names from here:\n",
    "active_hero_list = [\n",
    "    \"Baptiste‎\",\n",
    "    \"Bastion‎\",\n",
    "    \"Brigitte‎\",\n",
    "    \"Cassidy‎\",\n",
    "    \"D.Va‎\",\n",
    "    \"Doomfist‎\",\n",
    "    \"Echo‎\",\n",
    "    \"Genji‎\",\n",
    "    \"Hanzo‎\",\n",
    "    \"Junkrat‎\",\n",
    "    \"Lifeweaver‎\",\n",
    "    \"Lúcio‎\",\n",
    "    \"Mei‎\",\n",
    "    \"Mercy‎\",\n",
    "    \"Moira‎\",\n",
    "    \"Orisa‎\",\n",
    "    \"Pharah‎\",\n",
    "    \"Ramattra‎\",\n",
    "    \"Reaper‎\",\n",
    "    \"Reinhardt‎\",\n",
    "    \"Roadhog‎\",\n",
    "    \"Sigma‎\",\n",
    "    \"Soldier: 76‎\",\n",
    "    \"Sombra‎\",\n",
    "    \"Symmetra‎\",\n",
    "    \"Torbjörn‎\",\n",
    "    \"Tracer‎\",\n",
    "    \"Widowmaker‎\",\n",
    "    \"Winston‎\",\n",
    "    \"Wrecking Ball‎\",\n",
    "    \"Zarya‎\",\n",
    "    \"Zenyatta‎\",\n",
    "]"
   ]
  },
  {
   "cell_type": "code",
   "execution_count": 2,
   "id": "bc49191b-cd96-44cc-8596-abac1ff82a5b",
   "metadata": {},
   "outputs": [
    {
     "name": "stdout",
     "output_type": "stream",
     "text": [
      "None\n",
      "p\n",
      "div\n",
      "p\n",
      "div\n",
      "p\n",
      "div\n",
      "p\n",
      "div\n",
      "p\n",
      "div\n",
      "p\n"
     ]
    }
   ],
   "source": [
    "import requests\n",
    "from  bs4 import BeautifulSoup\n",
    "\n",
    "def get_abilities(character: str):\n",
    "    url = base_wiki_url + character.replace(\" \", \"_\")\n",
    "    r = requests.get(url)\n",
    "    soup = BeautifulSoup(r.text)\n",
    "    content_soup = soup.find(\"div\", {\"class\": \"mw-parser-output\"})\n",
    "    # header has ID \"Abilities\", but we need to use next to move to the context\n",
    "    ability_data = None\n",
    "    for child in content_soup.children:\n",
    "        if child.text == \"Abilities\":\n",
    "            ability_data = {}\n",
    "        elif ability_data is None:\n",
    "            continue\n",
    "        elif child.name == \"h2\":\n",
    "            break\n",
    "        else:\n",
    "            if child.name == \"div\":\n",
    "            print(child.name)\n",
    "\n",
    "get_abilities(\"Winston\")"
   ]
  },
  {
   "cell_type": "code",
   "execution_count": null,
   "id": "776b20f1-4204-4e84-a2c8-c62942223f1c",
   "metadata": {},
   "outputs": [],
   "source": []
  }
 ],
 "metadata": {
  "kernelspec": {
   "display_name": "Python 3 (ipykernel)",
   "language": "python",
   "name": "python3"
  },
  "language_info": {
   "codemirror_mode": {
    "name": "ipython",
    "version": 3
   },
   "file_extension": ".py",
   "mimetype": "text/x-python",
   "name": "python",
   "nbconvert_exporter": "python",
   "pygments_lexer": "ipython3",
   "version": "3.11.7"
  }
 },
 "nbformat": 4,
 "nbformat_minor": 5
}
